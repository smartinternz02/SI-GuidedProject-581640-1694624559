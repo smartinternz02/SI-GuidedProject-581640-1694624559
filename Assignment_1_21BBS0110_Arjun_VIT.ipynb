{
  "nbformat": 4,
  "nbformat_minor": 0,
  "metadata": {
    "colab": {
      "provenance": []
    },
    "kernelspec": {
      "name": "python3",
      "display_name": "Python 3"
    },
    "language_info": {
      "name": "python"
    }
  },
  "cells": [
    {
      "cell_type": "markdown",
      "source": [
        "### **Arjun Malhotra                                       21BBS0110**\n",
        "### Vellore Institute of Technology (VIT), Vellore\n",
        "### Evening Slot (6P.M to 8P.M)"
      ],
      "metadata": {
        "id": "R-ye55UcbBGl"
      }
    },
    {
      "cell_type": "code",
      "execution_count": null,
      "metadata": {
        "id": "9VnpyPqKa-40"
      },
      "outputs": [],
      "source": [
        "# Task 1 :\n",
        "\n",
        "# Create a pandas dataframe (DataFrame name as 'df') with numpy random values (4 features and 4 observation)"
      ]
    },
    {
      "cell_type": "code",
      "source": [
        "import pandas as pd\n",
        "import numpy as np\n",
        "\n",
        "data = np.random.randn(4, 4)\n",
        "df = pd.DataFrame(data)\n",
        "print(\"Task 1: DataFrame:\")\n",
        "print(df)"
      ],
      "metadata": {
        "colab": {
          "base_uri": "https://localhost:8080/"
        },
        "id": "FCgrXelnbIE3",
        "outputId": "555d3a17-3048-49d9-fde1-137243fec21f"
      },
      "execution_count": null,
      "outputs": [
        {
          "output_type": "stream",
          "name": "stdout",
          "text": [
            "Task 1: DataFrame:\n",
            "          0         1         2         3\n",
            "0  1.754517 -1.055781 -2.503078  1.445682\n",
            "1  0.308820 -0.846768 -1.563272 -0.145815\n",
            "2  1.168989 -0.335578 -0.735074 -0.647673\n",
            "3  0.399279  0.313771 -0.335797  0.368834\n"
          ]
        }
      ]
    },
    {
      "cell_type": "code",
      "source": [
        "# Task - 2:\n",
        "\n",
        "# Rename the task - 1 'df dataframe column names to 'Random value 1', 'Random value 2', 'Random value 3' & 'Random value 4'"
      ],
      "metadata": {
        "id": "kt6FW6S3bKOk"
      },
      "execution_count": null,
      "outputs": []
    },
    {
      "cell_type": "code",
      "source": [
        "df.columns = ['Random value 1', 'Random value 2', 'Random value 3', 'Random value 4']\n",
        "print(\"Task 2: Renamed columns:\")\n",
        "print(df)"
      ],
      "metadata": {
        "colab": {
          "base_uri": "https://localhost:8080/"
        },
        "id": "UnUo6WUNbMyB",
        "outputId": "81680db4-2f8e-437a-e2fb-92c8015e06e7"
      },
      "execution_count": null,
      "outputs": [
        {
          "output_type": "stream",
          "name": "stdout",
          "text": [
            "Task 2: Renamed columns:\n",
            "   Random value 1  Random value 2  Random value 3  Random value 4\n",
            "0        1.754517       -1.055781       -2.503078        1.445682\n",
            "1        0.308820       -0.846768       -1.563272       -0.145815\n",
            "2        1.168989       -0.335578       -0.735074       -0.647673\n",
            "3        0.399279        0.313771       -0.335797        0.368834\n"
          ]
        }
      ]
    },
    {
      "cell_type": "code",
      "source": [
        "# Task 3\n",
        "\n",
        "# Find the descriptive statistics of the 'df' dataframe."
      ],
      "metadata": {
        "id": "iXWAptN2bOpH"
      },
      "execution_count": null,
      "outputs": []
    },
    {
      "cell_type": "code",
      "source": [
        "descriptive_stats = df.describe()\n",
        "print(\"Task 3: Descriptive Statistics:\")\n",
        "print(descriptive_stats)"
      ],
      "metadata": {
        "colab": {
          "base_uri": "https://localhost:8080/"
        },
        "id": "IKYGbmYFbRAy",
        "outputId": "599d9794-4344-48f0-866c-f75cfa1e5a96"
      },
      "execution_count": null,
      "outputs": [
        {
          "output_type": "stream",
          "name": "stdout",
          "text": [
            "Task 3: Descriptive Statistics:\n",
            "       Random value 1  Random value 2  Random value 3  Random value 4\n",
            "count        4.000000        4.000000        4.000000        4.000000\n",
            "mean         0.907901       -0.481089       -1.284305        0.255257\n",
            "std          0.683745        0.610182        0.959957        0.895573\n",
            "min          0.308820       -1.055781       -2.503078       -0.647673\n",
            "25%          0.376664       -0.899021       -1.798224       -0.271279\n",
            "50%          0.784134       -0.591173       -1.149173        0.111510\n",
            "75%          1.315371       -0.173241       -0.635255        0.638046\n",
            "max          1.754517        0.313771       -0.335797        1.445682\n"
          ]
        }
      ]
    },
    {
      "cell_type": "code",
      "source": [
        "# Task 4\n",
        "\n",
        "# Check for the null values in 'df' and find the data type of the columns."
      ],
      "metadata": {
        "id": "Fu9bvXYNbTS_"
      },
      "execution_count": null,
      "outputs": []
    },
    {
      "cell_type": "code",
      "source": [
        "null_values = df.isnull().values.any()\n",
        "data_types = df.dtypes\n",
        "print(\"Task 4: Null Values and Data Types:\")\n",
        "print(null_values)\n",
        "print(data_types)"
      ],
      "metadata": {
        "colab": {
          "base_uri": "https://localhost:8080/"
        },
        "id": "zs0m0c94bVNc",
        "outputId": "1f32dd79-4d48-425d-b34c-54b47b48d2e3"
      },
      "execution_count": null,
      "outputs": [
        {
          "output_type": "stream",
          "name": "stdout",
          "text": [
            "Task 4: Null Values and Data Types:\n",
            "False\n",
            "Random value 1    float64\n",
            "Random value 2    float64\n",
            "Random value 3    float64\n",
            "Random value 4    float64\n",
            "dtype: object\n"
          ]
        }
      ]
    },
    {
      "cell_type": "code",
      "source": [
        "# Task - 5\n",
        "\n",
        "# Display the 'Random value 2' & 'Random value 3' columns with location method and index location method."
      ],
      "metadata": {
        "id": "HckjrRgcbW41"
      },
      "execution_count": null,
      "outputs": []
    },
    {
      "cell_type": "code",
      "source": [
        "random_value_loc = df.loc[:, 'Random value 2':'Random value 3']\n",
        "random_value_idx = df.iloc[:, 1:3]\n",
        "print(\"Task 5: 'Random value 2' & 'Random value 3' Columns:\")\n",
        "print(\"Using loc:\")\n",
        "print(random_value_loc)\n",
        "print(\"\\nUsing iloc:\")\n",
        "print(random_value_idx)"
      ],
      "metadata": {
        "colab": {
          "base_uri": "https://localhost:8080/"
        },
        "id": "YytWNYNjbZGO",
        "outputId": "7fb5c444-6dd0-472b-802c-2c467dbcb76c"
      },
      "execution_count": null,
      "outputs": [
        {
          "output_type": "stream",
          "name": "stdout",
          "text": [
            "Task 5: 'Random value 2' & 'Random value 3' Columns:\n",
            "Using loc:\n",
            "   Random value 2  Random value 3\n",
            "0       -1.055781       -2.503078\n",
            "1       -0.846768       -1.563272\n",
            "2       -0.335578       -0.735074\n",
            "3        0.313771       -0.335797\n",
            "\n",
            "Using iloc:\n",
            "   Random value 2  Random value 3\n",
            "0       -1.055781       -2.503078\n",
            "1       -0.846768       -1.563272\n",
            "2       -0.335578       -0.735074\n",
            "3        0.313771       -0.335797\n"
          ]
        }
      ]
    },
    {
      "cell_type": "markdown",
      "source": [
        "COLAB LINK\n",
        "https://colab.research.google.com/drive/1ya807b4LP9yS3BKHyzADscISA_45YGfF?usp=sharing"
      ],
      "metadata": {
        "id": "fU_kGAECbgb4"
      }
    }
  ]
}